{
 "cells": [
  {
   "cell_type": "code",
   "execution_count": 1,
   "metadata": {},
   "outputs": [
    {
     "name": "stdout",
     "output_type": "stream",
     "text": [
      "Event loop ready.\n"
     ]
    }
   ],
   "source": [
    "import nest_asyncio\n",
    "\n",
    "nest_asyncio.apply()\n",
    "print(\"Event loop ready.\")"
   ]
  },
  {
   "cell_type": "code",
   "execution_count": 2,
   "metadata": {},
   "outputs": [
    {
     "name": "stdout",
     "output_type": "stream",
     "text": [
      "['data', 'domain.yml', '.ipynb_checkpoints', '__init__.py', 'endpoints.yml', 'credentials.yml', '__pycache__', 'config.yml', 'actions.py']\n"
     ]
    }
   ],
   "source": [
    "# from rasa.cli.scaffold import create_initial_project\n",
    "import os\n",
    "\n",
    "project = \"Rasa_eng\"\n",
    "# create_initial_project(project)\n",
    "\n",
    "# move into project directory and show files\n",
    "os.chdir(project)\n",
    "print(os.listdir(\".\"))"
   ]
  },
  {
   "cell_type": "code",
   "execution_count": 3,
   "metadata": {},
   "outputs": [
    {
     "name": "stdout",
     "output_type": "stream",
     "text": [
      "config.yml data/ domain.yml models/\n"
     ]
    }
   ],
   "source": [
    "config = \"config.yml\"\n",
    "training_files = \"data/\"\n",
    "domain = \"domain.yml\"\n",
    "output = \"models/\"\n",
    "print(config, training_files, domain, output)"
   ]
  },
  {
   "cell_type": "code",
   "execution_count": 4,
   "metadata": {},
   "outputs": [
    {
     "name": "stdout",
     "output_type": "stream",
     "text": [
      "\u001b[94mTraining Core model...\u001b[0m\n",
      "WARNING:tensorflow:\n",
      "The TensorFlow contrib module will not be included in TensorFlow 2.0.\n",
      "For more information, please see:\n",
      "  * https://github.com/tensorflow/community/blob/master/rfcs/20180907-contrib-sunset.md\n",
      "  * https://github.com/tensorflow/addons\n",
      "  * https://github.com/tensorflow/io (for I/O related ops)\n",
      "If you depend on functionality not listed there, please file an issue.\n",
      "\n",
      "WARNING:tensorflow:From /home/ulgal/anaconda3/lib/python3.7/site-packages/tensor2tensor/utils/adafactor.py:27: The name tf.train.Optimizer is deprecated. Please use tf.compat.v1.train.Optimizer instead.\n",
      "\n",
      "WARNING:tensorflow:From /home/ulgal/anaconda3/lib/python3.7/site-packages/tensor2tensor/utils/multistep_optimizer.py:32: The name tf.train.AdamOptimizer is deprecated. Please use tf.compat.v1.train.AdamOptimizer instead.\n",
      "\n",
      "WARNING:tensorflow:Failed to load tensor2tensor\n",
      "WARNING:tensorflow:From /home/ulgal/anaconda3/lib/python3.7/site-packages/tensor2tensor/models/research/glow_init_hook.py:25: The name tf.train.SessionRunHook is deprecated. Please use tf.estimator.SessionRunHook instead.\n",
      "\n",
      "WARNING:tensorflow:From /home/ulgal/anaconda3/lib/python3.7/site-packages/tensor2tensor/models/research/neural_stack.py:51: The name tf.nn.rnn_cell.RNNCell is deprecated. Please use tf.compat.v1.nn.rnn_cell.RNNCell instead.\n",
      "\n",
      "WARNING:tensorflow:From /home/ulgal/anaconda3/lib/python3.7/site-packages/tensor2tensor/utils/trainer_lib.py:111: The name tf.OptimizerOptions is deprecated. Please use tf.compat.v1.OptimizerOptions instead.\n",
      "\n"
     ]
    },
    {
     "name": "stderr",
     "output_type": "stream",
     "text": [
      "WARNING:tensorflow:From /home/ulgal/anaconda3/lib/python3.7/site-packages/tensor2tensor/utils/trainer_lib.py:111: The name tf.OptimizerOptions is deprecated. Please use tf.compat.v1.OptimizerOptions instead.\n",
      "\n"
     ]
    },
    {
     "name": "stdout",
     "output_type": "stream",
     "text": [
      "WARNING:tensorflow:From /home/ulgal/anaconda3/lib/python3.7/site-packages/tensorflow_gan/python/contrib_utils.py:305: The name tf.estimator.tpu.TPUEstimator is deprecated. Please use tf.compat.v1.estimator.tpu.TPUEstimator instead.\n",
      "\n"
     ]
    },
    {
     "name": "stderr",
     "output_type": "stream",
     "text": [
      "WARNING:tensorflow:From /home/ulgal/anaconda3/lib/python3.7/site-packages/tensorflow_gan/python/contrib_utils.py:305: The name tf.estimator.tpu.TPUEstimator is deprecated. Please use tf.compat.v1.estimator.tpu.TPUEstimator instead.\n",
      "\n"
     ]
    },
    {
     "name": "stdout",
     "output_type": "stream",
     "text": [
      "WARNING:tensorflow:From /home/ulgal/anaconda3/lib/python3.7/site-packages/tensorflow_gan/python/contrib_utils.py:310: The name tf.estimator.tpu.TPUEstimatorSpec is deprecated. Please use tf.compat.v1.estimator.tpu.TPUEstimatorSpec instead.\n",
      "\n"
     ]
    },
    {
     "name": "stderr",
     "output_type": "stream",
     "text": [
      "WARNING:tensorflow:From /home/ulgal/anaconda3/lib/python3.7/site-packages/tensorflow_gan/python/contrib_utils.py:310: The name tf.estimator.tpu.TPUEstimatorSpec is deprecated. Please use tf.compat.v1.estimator.tpu.TPUEstimatorSpec instead.\n",
      "\n",
      "Processed Story Blocks: 100%|██████████| 5/5 [00:00<00:00, 1151.14it/s, # trackers=1]\n",
      "Processed Story Blocks: 100%|██████████| 5/5 [00:00<00:00, 518.87it/s, # trackers=5]\n",
      "Processed Story Blocks: 100%|██████████| 5/5 [00:00<00:00, 291.00it/s, # trackers=20]\n",
      "Processed Story Blocks: 100%|██████████| 5/5 [00:00<00:00, 205.86it/s, # trackers=24]\n",
      "Processed trackers: 100%|██████████| 5/5 [00:00<00:00, 382.50it/s, # actions=16]\n",
      "Processed actions: 16it [00:00, 772.34it/s, # examples=16]\n",
      "Processed trackers: 100%|██████████| 231/231 [00:03<00:00, 74.42it/s, # actions=126]\n"
     ]
    },
    {
     "name": "stdout",
     "output_type": "stream",
     "text": [
      "WARNING:tensorflow:From /home/ulgal/anaconda3/lib/python3.7/site-packages/rasa/core/policies/keras_policy.py:185: The name tf.set_random_seed is deprecated. Please use tf.compat.v1.set_random_seed instead.\n",
      "\n"
     ]
    },
    {
     "name": "stderr",
     "output_type": "stream",
     "text": [
      "WARNING:tensorflow:From /home/ulgal/anaconda3/lib/python3.7/site-packages/rasa/core/policies/keras_policy.py:185: The name tf.set_random_seed is deprecated. Please use tf.compat.v1.set_random_seed instead.\n",
      "\n"
     ]
    },
    {
     "name": "stdout",
     "output_type": "stream",
     "text": [
      "WARNING:tensorflow:From /home/ulgal/anaconda3/lib/python3.7/site-packages/tensorflow/python/ops/init_ops.py:1251: calling VarianceScaling.__init__ (from tensorflow.python.ops.init_ops) with dtype is deprecated and will be removed in a future version.\n",
      "Instructions for updating:\n",
      "Call initializer instance with the dtype argument instead of passing it to the constructor\n"
     ]
    },
    {
     "name": "stderr",
     "output_type": "stream",
     "text": [
      "WARNING:tensorflow:From /home/ulgal/anaconda3/lib/python3.7/site-packages/tensorflow/python/ops/init_ops.py:1251: calling VarianceScaling.__init__ (from tensorflow.python.ops.init_ops) with dtype is deprecated and will be removed in a future version.\n",
      "Instructions for updating:\n",
      "Call initializer instance with the dtype argument instead of passing it to the constructor\n"
     ]
    },
    {
     "name": "stdout",
     "output_type": "stream",
     "text": [
      "WARNING:tensorflow:From /home/ulgal/anaconda3/lib/python3.7/site-packages/tensorflow/python/keras/backend.py:3794: add_dispatch_support.<locals>.wrapper (from tensorflow.python.ops.array_ops) is deprecated and will be removed in a future version.\n",
      "Instructions for updating:\n",
      "Use tf.where in 2.0, which has the same broadcast rule as np.where\n"
     ]
    },
    {
     "name": "stderr",
     "output_type": "stream",
     "text": [
      "WARNING:tensorflow:From /home/ulgal/anaconda3/lib/python3.7/site-packages/tensorflow/python/keras/backend.py:3794: add_dispatch_support.<locals>.wrapper (from tensorflow.python.ops.array_ops) is deprecated and will be removed in a future version.\n",
      "Instructions for updating:\n",
      "Use tf.where in 2.0, which has the same broadcast rule as np.where\n"
     ]
    },
    {
     "name": "stdout",
     "output_type": "stream",
     "text": [
      "Model: \"sequential\"\n",
      "_________________________________________________________________\n",
      "Layer (type)                 Output Shape              Param #   \n",
      "=================================================================\n",
      "masking (Masking)            (None, 5, 21)             0         \n",
      "_________________________________________________________________\n",
      "lstm (LSTM)                  (None, 32)                6912      \n",
      "_________________________________________________________________\n",
      "dense (Dense)                (None, 14)                462       \n",
      "_________________________________________________________________\n",
      "activation (Activation)      (None, 14)                0         \n",
      "=================================================================\n",
      "Total params: 7,374\n",
      "Trainable params: 7,374\n",
      "Non-trainable params: 0\n",
      "_________________________________________________________________\n",
      "Epoch 1/100\n",
      "126/126 [==============================] - 1s 5ms/sample - loss: 2.6042 - acc: 0.1429\n",
      "Epoch 2/100\n",
      "126/126 [==============================] - 0s 245us/sample - loss: 2.5296 - acc: 0.3254\n",
      "Epoch 3/100\n",
      "126/126 [==============================] - 0s 213us/sample - loss: 2.4695 - acc: 0.4444\n",
      "Epoch 4/100\n",
      "126/126 [==============================] - 0s 184us/sample - loss: 2.4061 - acc: 0.4683\n",
      "Epoch 5/100\n",
      "126/126 [==============================] - 0s 243us/sample - loss: 2.3409 - acc: 0.4603\n",
      "Epoch 6/100\n",
      "126/126 [==============================] - 0s 232us/sample - loss: 2.2677 - acc: 0.4524\n",
      "Epoch 7/100\n",
      "126/126 [==============================] - 0s 245us/sample - loss: 2.1899 - acc: 0.4524\n",
      "Epoch 8/100\n",
      "126/126 [==============================] - 0s 249us/sample - loss: 2.1104 - acc: 0.4603\n",
      "Epoch 9/100\n",
      "126/126 [==============================] - 0s 248us/sample - loss: 2.0223 - acc: 0.4603\n",
      "Epoch 10/100\n",
      "126/126 [==============================] - 0s 247us/sample - loss: 1.9497 - acc: 0.4603\n",
      "Epoch 11/100\n",
      "126/126 [==============================] - 0s 261us/sample - loss: 1.8840 - acc: 0.4603\n",
      "Epoch 12/100\n",
      "126/126 [==============================] - 0s 224us/sample - loss: 1.8201 - acc: 0.4603\n",
      "Epoch 13/100\n",
      "126/126 [==============================] - 0s 260us/sample - loss: 1.7761 - acc: 0.4603\n",
      "Epoch 14/100\n",
      "126/126 [==============================] - 0s 244us/sample - loss: 1.7552 - acc: 0.4603\n",
      "Epoch 15/100\n",
      "126/126 [==============================] - 0s 239us/sample - loss: 1.7345 - acc: 0.4603\n",
      "Epoch 16/100\n",
      "126/126 [==============================] - 0s 267us/sample - loss: 1.7055 - acc: 0.4603\n",
      "Epoch 17/100\n",
      "126/126 [==============================] - 0s 226us/sample - loss: 1.6845 - acc: 0.4603\n",
      "Epoch 18/100\n",
      "126/126 [==============================] - 0s 254us/sample - loss: 1.6710 - acc: 0.4603\n",
      "Epoch 19/100\n",
      "126/126 [==============================] - 0s 221us/sample - loss: 1.6379 - acc: 0.4603\n",
      "Epoch 20/100\n",
      "126/126 [==============================] - 0s 256us/sample - loss: 1.6285 - acc: 0.4603\n",
      "Epoch 21/100\n",
      "126/126 [==============================] - 0s 244us/sample - loss: 1.5976 - acc: 0.4603\n",
      "Epoch 22/100\n",
      "126/126 [==============================] - 0s 259us/sample - loss: 1.5866 - acc: 0.4603\n",
      "Epoch 23/100\n",
      "126/126 [==============================] - 0s 244us/sample - loss: 1.5726 - acc: 0.4603\n",
      "Epoch 24/100\n",
      "126/126 [==============================] - 0s 260us/sample - loss: 1.5675 - acc: 0.4603\n",
      "Epoch 25/100\n",
      "126/126 [==============================] - 0s 257us/sample - loss: 1.5465 - acc: 0.4603\n",
      "Epoch 26/100\n",
      "126/126 [==============================] - 0s 252us/sample - loss: 1.5254 - acc: 0.4603\n",
      "Epoch 27/100\n",
      "126/126 [==============================] - 0s 282us/sample - loss: 1.5103 - acc: 0.4603\n",
      "Epoch 28/100\n",
      "126/126 [==============================] - 0s 176us/sample - loss: 1.4949 - acc: 0.4603\n",
      "Epoch 29/100\n",
      "126/126 [==============================] - 0s 211us/sample - loss: 1.4598 - acc: 0.4683\n",
      "Epoch 30/100\n",
      "126/126 [==============================] - 0s 248us/sample - loss: 1.4740 - acc: 0.4603\n",
      "Epoch 31/100\n",
      "126/126 [==============================] - 0s 255us/sample - loss: 1.4512 - acc: 0.4683\n",
      "Epoch 32/100\n",
      "126/126 [==============================] - 0s 277us/sample - loss: 1.4396 - acc: 0.4603\n",
      "Epoch 33/100\n",
      "126/126 [==============================] - 0s 320us/sample - loss: 1.4113 - acc: 0.4683\n",
      "Epoch 34/100\n",
      "126/126 [==============================] - 0s 226us/sample - loss: 1.3990 - acc: 0.4683\n",
      "Epoch 35/100\n",
      "126/126 [==============================] - 0s 294us/sample - loss: 1.3506 - acc: 0.4603\n",
      "Epoch 36/100\n",
      "126/126 [==============================] - 0s 235us/sample - loss: 1.3699 - acc: 0.4603\n",
      "Epoch 37/100\n",
      "126/126 [==============================] - 0s 317us/sample - loss: 1.3505 - acc: 0.4683\n",
      "Epoch 38/100\n",
      "126/126 [==============================] - 0s 274us/sample - loss: 1.3245 - acc: 0.4603\n",
      "Epoch 39/100\n",
      "126/126 [==============================] - 0s 240us/sample - loss: 1.3045 - acc: 0.4683\n",
      "Epoch 40/100\n",
      "126/126 [==============================] - 0s 198us/sample - loss: 1.3022 - acc: 0.4683\n",
      "Epoch 41/100\n",
      "126/126 [==============================] - 0s 217us/sample - loss: 1.2723 - acc: 0.4762\n",
      "Epoch 42/100\n",
      "126/126 [==============================] - 0s 215us/sample - loss: 1.2447 - acc: 0.4762\n",
      "Epoch 43/100\n",
      "126/126 [==============================] - 0s 232us/sample - loss: 1.2332 - acc: 0.5000\n",
      "Epoch 44/100\n",
      "126/126 [==============================] - 0s 262us/sample - loss: 1.2053 - acc: 0.5000\n",
      "Epoch 45/100\n",
      "126/126 [==============================] - 0s 248us/sample - loss: 1.1688 - acc: 0.4841\n",
      "Epoch 46/100\n",
      "126/126 [==============================] - 0s 284us/sample - loss: 1.1750 - acc: 0.5079\n",
      "Epoch 47/100\n",
      "126/126 [==============================] - 0s 211us/sample - loss: 1.1238 - acc: 0.5317\n",
      "Epoch 48/100\n",
      "126/126 [==============================] - 0s 213us/sample - loss: 1.1127 - acc: 0.5397\n",
      "Epoch 49/100\n",
      "126/126 [==============================] - 0s 285us/sample - loss: 1.0842 - acc: 0.5476\n",
      "Epoch 50/100\n",
      "126/126 [==============================] - 0s 187us/sample - loss: 1.0920 - acc: 0.5397\n",
      "Epoch 51/100\n",
      "126/126 [==============================] - 0s 202us/sample - loss: 1.0405 - acc: 0.6032\n",
      "Epoch 52/100\n",
      "126/126 [==============================] - 0s 237us/sample - loss: 1.0253 - acc: 0.6270\n",
      "Epoch 53/100\n",
      "126/126 [==============================] - 0s 288us/sample - loss: 1.0735 - acc: 0.6270\n",
      "Epoch 54/100\n",
      "126/126 [==============================] - 0s 198us/sample - loss: 0.9882 - acc: 0.6746\n",
      "Epoch 55/100\n",
      "126/126 [==============================] - 0s 292us/sample - loss: 0.9941 - acc: 0.6984\n",
      "Epoch 56/100\n",
      "126/126 [==============================] - 0s 200us/sample - loss: 0.9776 - acc: 0.6905\n",
      "Epoch 57/100\n",
      "126/126 [==============================] - 0s 318us/sample - loss: 0.9594 - acc: 0.7143\n",
      "Epoch 58/100\n",
      "126/126 [==============================] - 0s 266us/sample - loss: 0.9451 - acc: 0.7063\n",
      "Epoch 59/100\n",
      "126/126 [==============================] - 0s 249us/sample - loss: 0.8881 - acc: 0.7937\n",
      "Epoch 60/100\n",
      "126/126 [==============================] - 0s 261us/sample - loss: 0.8879 - acc: 0.8095\n",
      "Epoch 61/100\n",
      "126/126 [==============================] - 0s 225us/sample - loss: 0.8908 - acc: 0.7381\n",
      "Epoch 62/100\n",
      "126/126 [==============================] - 0s 211us/sample - loss: 0.8525 - acc: 0.7937\n",
      "Epoch 63/100\n",
      "126/126 [==============================] - 0s 211us/sample - loss: 0.8290 - acc: 0.7698\n",
      "Epoch 64/100\n",
      "126/126 [==============================] - 0s 237us/sample - loss: 0.8155 - acc: 0.8254\n",
      "Epoch 65/100\n",
      "126/126 [==============================] - 0s 263us/sample - loss: 0.8231 - acc: 0.7857\n",
      "Epoch 66/100\n",
      "126/126 [==============================] - 0s 268us/sample - loss: 0.7991 - acc: 0.8254\n",
      "Epoch 67/100\n",
      "126/126 [==============================] - 0s 283us/sample - loss: 0.7545 - acc: 0.8571\n",
      "Epoch 68/100\n",
      "126/126 [==============================] - 0s 259us/sample - loss: 0.7290 - acc: 0.8730\n",
      "Epoch 69/100\n",
      "126/126 [==============================] - 0s 257us/sample - loss: 0.7287 - acc: 0.8571\n",
      "Epoch 70/100\n",
      "126/126 [==============================] - 0s 238us/sample - loss: 0.7182 - acc: 0.8571\n",
      "Epoch 71/100\n",
      "126/126 [==============================] - 0s 254us/sample - loss: 0.7136 - acc: 0.8730\n",
      "Epoch 72/100\n",
      "126/126 [==============================] - 0s 251us/sample - loss: 0.7072 - acc: 0.8492\n",
      "Epoch 73/100\n",
      "126/126 [==============================] - 0s 208us/sample - loss: 0.6797 - acc: 0.8413\n",
      "Epoch 74/100\n",
      "126/126 [==============================] - 0s 251us/sample - loss: 0.6399 - acc: 0.8651\n",
      "Epoch 75/100\n",
      "126/126 [==============================] - 0s 236us/sample - loss: 0.6551 - acc: 0.8571\n",
      "Epoch 76/100\n",
      "126/126 [==============================] - 0s 282us/sample - loss: 0.6247 - acc: 0.8810\n",
      "Epoch 77/100\n",
      "126/126 [==============================] - 0s 246us/sample - loss: 0.6049 - acc: 0.8889\n",
      "Epoch 78/100\n",
      "126/126 [==============================] - 0s 249us/sample - loss: 0.6208 - acc: 0.8651\n",
      "Epoch 79/100\n",
      "126/126 [==============================] - 0s 247us/sample - loss: 0.5996 - acc: 0.8968\n",
      "Epoch 80/100\n",
      "126/126 [==============================] - 0s 190us/sample - loss: 0.6036 - acc: 0.8889\n",
      "Epoch 81/100\n",
      "126/126 [==============================] - 0s 224us/sample - loss: 0.5632 - acc: 0.8968\n",
      "Epoch 82/100\n",
      "126/126 [==============================] - 0s 289us/sample - loss: 0.5469 - acc: 0.9286\n",
      "Epoch 83/100\n",
      "126/126 [==============================] - 0s 326us/sample - loss: 0.5862 - acc: 0.8651\n",
      "Epoch 84/100\n",
      "126/126 [==============================] - 0s 269us/sample - loss: 0.5708 - acc: 0.8810\n",
      "Epoch 85/100\n",
      "126/126 [==============================] - 0s 253us/sample - loss: 0.5271 - acc: 0.9444\n",
      "Epoch 86/100\n",
      "126/126 [==============================] - 0s 247us/sample - loss: 0.5219 - acc: 0.9286\n",
      "Epoch 87/100\n",
      "126/126 [==============================] - 0s 247us/sample - loss: 0.5485 - acc: 0.8968\n",
      "Epoch 88/100\n",
      "126/126 [==============================] - 0s 263us/sample - loss: 0.4849 - acc: 0.9206\n",
      "Epoch 89/100\n",
      "126/126 [==============================] - 0s 226us/sample - loss: 0.5057 - acc: 0.9286\n",
      "Epoch 90/100\n",
      "126/126 [==============================] - 0s 237us/sample - loss: 0.5132 - acc: 0.9048\n",
      "Epoch 91/100\n",
      "126/126 [==============================] - 0s 261us/sample - loss: 0.4503 - acc: 0.9762\n",
      "Epoch 92/100\n",
      "126/126 [==============================] - 0s 196us/sample - loss: 0.4801 - acc: 0.9524\n",
      "Epoch 93/100\n",
      "126/126 [==============================] - 0s 252us/sample - loss: 0.4792 - acc: 0.9365\n",
      "Epoch 94/100\n",
      "126/126 [==============================] - 0s 238us/sample - loss: 0.4346 - acc: 0.9603\n",
      "Epoch 95/100\n",
      "126/126 [==============================] - 0s 291us/sample - loss: 0.4401 - acc: 0.9444\n",
      "Epoch 96/100\n",
      "126/126 [==============================] - 0s 220us/sample - loss: 0.4530 - acc: 0.9365\n",
      "Epoch 97/100\n",
      "126/126 [==============================] - 0s 237us/sample - loss: 0.4634 - acc: 0.9524\n",
      "Epoch 98/100\n",
      "126/126 [==============================] - 0s 249us/sample - loss: 0.4001 - acc: 0.9762\n",
      "Epoch 99/100\n",
      "126/126 [==============================] - 0s 252us/sample - loss: 0.4090 - acc: 0.9603\n",
      "Epoch 100/100\n",
      "126/126 [==============================] - 0s 260us/sample - loss: 0.4395 - acc: 0.9683\n",
      "\u001b[94mCore model training completed.\u001b[0m\n",
      "\u001b[94mTraining NLU model...\u001b[0m\n",
      "WARNING:tensorflow:From /home/ulgal/anaconda3/lib/python3.7/site-packages/rasa/nlu/classifiers/embedding_intent_classifier.py:543: The name tf.placeholder is deprecated. Please use tf.compat.v1.placeholder instead.\n",
      "\n"
     ]
    },
    {
     "name": "stderr",
     "output_type": "stream",
     "text": [
      "WARNING:tensorflow:From /home/ulgal/anaconda3/lib/python3.7/site-packages/rasa/nlu/classifiers/embedding_intent_classifier.py:543: The name tf.placeholder is deprecated. Please use tf.compat.v1.placeholder instead.\n",
      "\n"
     ]
    },
    {
     "name": "stdout",
     "output_type": "stream",
     "text": [
      "WARNING:tensorflow:From /home/ulgal/anaconda3/lib/python3.7/site-packages/tensorflow/python/data/ops/dataset_ops.py:494: py_func (from tensorflow.python.ops.script_ops) is deprecated and will be removed in a future version.\n",
      "Instructions for updating:\n",
      "tf.py_func is deprecated in TF V2. Instead, there are two\n",
      "    options available in V2.\n",
      "    - tf.py_function takes a python function which manipulates tf eager\n",
      "    tensors instead of numpy arrays. It's easy to convert a tf eager tensor to\n",
      "    an ndarray (just call tensor.numpy()) but having access to eager tensors\n",
      "    means `tf.py_function`s can use accelerators such as GPUs as well as\n",
      "    being differentiable using a gradient tape.\n",
      "    - tf.numpy_function maintains the semantics of the deprecated tf.py_func\n",
      "    (it is not differentiable, and manipulates numpy arrays). It drops the\n",
      "    stateful argument making all functions stateful.\n",
      "    \n"
     ]
    },
    {
     "name": "stderr",
     "output_type": "stream",
     "text": [
      "WARNING:tensorflow:From /home/ulgal/anaconda3/lib/python3.7/site-packages/tensorflow/python/data/ops/dataset_ops.py:494: py_func (from tensorflow.python.ops.script_ops) is deprecated and will be removed in a future version.\n",
      "Instructions for updating:\n",
      "tf.py_func is deprecated in TF V2. Instead, there are two\n",
      "    options available in V2.\n",
      "    - tf.py_function takes a python function which manipulates tf eager\n",
      "    tensors instead of numpy arrays. It's easy to convert a tf eager tensor to\n",
      "    an ndarray (just call tensor.numpy()) but having access to eager tensors\n",
      "    means `tf.py_function`s can use accelerators such as GPUs as well as\n",
      "    being differentiable using a gradient tape.\n",
      "    - tf.numpy_function maintains the semantics of the deprecated tf.py_func\n",
      "    (it is not differentiable, and manipulates numpy arrays). It drops the\n",
      "    stateful argument making all functions stateful.\n",
      "    \n"
     ]
    },
    {
     "name": "stdout",
     "output_type": "stream",
     "text": [
      "WARNING:tensorflow:From /home/ulgal/anaconda3/lib/python3.7/site-packages/rasa/utils/train_utils.py:257: The name tf.data.Iterator is deprecated. Please use tf.compat.v1.data.Iterator instead.\n",
      "\n"
     ]
    },
    {
     "name": "stderr",
     "output_type": "stream",
     "text": [
      "WARNING:tensorflow:From /home/ulgal/anaconda3/lib/python3.7/site-packages/rasa/utils/train_utils.py:257: The name tf.data.Iterator is deprecated. Please use tf.compat.v1.data.Iterator instead.\n",
      "\n"
     ]
    },
    {
     "name": "stdout",
     "output_type": "stream",
     "text": [
      "WARNING:tensorflow:From /home/ulgal/anaconda3/lib/python3.7/site-packages/rasa/utils/train_utils.py:258: DatasetV1.output_types (from tensorflow.python.data.ops.dataset_ops) is deprecated and will be removed in a future version.\n",
      "Instructions for updating:\n",
      "Use `tf.compat.v1.data.get_output_types(dataset)`.\n"
     ]
    },
    {
     "name": "stderr",
     "output_type": "stream",
     "text": [
      "WARNING:tensorflow:From /home/ulgal/anaconda3/lib/python3.7/site-packages/rasa/utils/train_utils.py:258: DatasetV1.output_types (from tensorflow.python.data.ops.dataset_ops) is deprecated and will be removed in a future version.\n",
      "Instructions for updating:\n",
      "Use `tf.compat.v1.data.get_output_types(dataset)`.\n"
     ]
    },
    {
     "name": "stdout",
     "output_type": "stream",
     "text": [
      "WARNING:tensorflow:From /home/ulgal/anaconda3/lib/python3.7/site-packages/rasa/utils/train_utils.py:259: DatasetV1.output_shapes (from tensorflow.python.data.ops.dataset_ops) is deprecated and will be removed in a future version.\n",
      "Instructions for updating:\n",
      "Use `tf.compat.v1.data.get_output_shapes(dataset)`.\n"
     ]
    },
    {
     "name": "stderr",
     "output_type": "stream",
     "text": [
      "WARNING:tensorflow:From /home/ulgal/anaconda3/lib/python3.7/site-packages/rasa/utils/train_utils.py:259: DatasetV1.output_shapes (from tensorflow.python.data.ops.dataset_ops) is deprecated and will be removed in a future version.\n",
      "Instructions for updating:\n",
      "Use `tf.compat.v1.data.get_output_shapes(dataset)`.\n"
     ]
    },
    {
     "name": "stdout",
     "output_type": "stream",
     "text": [
      "WARNING:tensorflow:From /home/ulgal/anaconda3/lib/python3.7/site-packages/rasa/utils/train_utils.py:260: DatasetV1.output_classes (from tensorflow.python.data.ops.dataset_ops) is deprecated and will be removed in a future version.\n",
      "Instructions for updating:\n",
      "Use `tf.compat.v1.data.get_output_classes(dataset)`.\n"
     ]
    },
    {
     "name": "stderr",
     "output_type": "stream",
     "text": [
      "WARNING:tensorflow:From /home/ulgal/anaconda3/lib/python3.7/site-packages/rasa/utils/train_utils.py:260: DatasetV1.output_classes (from tensorflow.python.data.ops.dataset_ops) is deprecated and will be removed in a future version.\n",
      "Instructions for updating:\n",
      "Use `tf.compat.v1.data.get_output_classes(dataset)`.\n"
     ]
    },
    {
     "name": "stdout",
     "output_type": "stream",
     "text": [
      "WARNING:tensorflow:From /home/ulgal/anaconda3/lib/python3.7/site-packages/tensorflow/python/data/ops/iterator_ops.py:348: Iterator.output_types (from tensorflow.python.data.ops.iterator_ops) is deprecated and will be removed in a future version.\n",
      "Instructions for updating:\n",
      "Use `tf.compat.v1.data.get_output_types(iterator)`.\n"
     ]
    },
    {
     "name": "stderr",
     "output_type": "stream",
     "text": [
      "WARNING:tensorflow:From /home/ulgal/anaconda3/lib/python3.7/site-packages/tensorflow/python/data/ops/iterator_ops.py:348: Iterator.output_types (from tensorflow.python.data.ops.iterator_ops) is deprecated and will be removed in a future version.\n",
      "Instructions for updating:\n",
      "Use `tf.compat.v1.data.get_output_types(iterator)`.\n"
     ]
    },
    {
     "name": "stdout",
     "output_type": "stream",
     "text": [
      "WARNING:tensorflow:From /home/ulgal/anaconda3/lib/python3.7/site-packages/tensorflow/python/data/ops/iterator_ops.py:349: Iterator.output_shapes (from tensorflow.python.data.ops.iterator_ops) is deprecated and will be removed in a future version.\n",
      "Instructions for updating:\n",
      "Use `tf.compat.v1.data.get_output_shapes(iterator)`.\n"
     ]
    },
    {
     "name": "stderr",
     "output_type": "stream",
     "text": [
      "WARNING:tensorflow:From /home/ulgal/anaconda3/lib/python3.7/site-packages/tensorflow/python/data/ops/iterator_ops.py:349: Iterator.output_shapes (from tensorflow.python.data.ops.iterator_ops) is deprecated and will be removed in a future version.\n",
      "Instructions for updating:\n",
      "Use `tf.compat.v1.data.get_output_shapes(iterator)`.\n"
     ]
    },
    {
     "name": "stdout",
     "output_type": "stream",
     "text": [
      "WARNING:tensorflow:From /home/ulgal/anaconda3/lib/python3.7/site-packages/tensorflow/python/data/ops/iterator_ops.py:351: Iterator.output_classes (from tensorflow.python.data.ops.iterator_ops) is deprecated and will be removed in a future version.\n",
      "Instructions for updating:\n",
      "Use `tf.compat.v1.data.get_output_classes(iterator)`.\n"
     ]
    },
    {
     "name": "stderr",
     "output_type": "stream",
     "text": [
      "WARNING:tensorflow:From /home/ulgal/anaconda3/lib/python3.7/site-packages/tensorflow/python/data/ops/iterator_ops.py:351: Iterator.output_classes (from tensorflow.python.data.ops.iterator_ops) is deprecated and will be removed in a future version.\n",
      "Instructions for updating:\n",
      "Use `tf.compat.v1.data.get_output_classes(iterator)`.\n"
     ]
    },
    {
     "name": "stdout",
     "output_type": "stream",
     "text": [
      "WARNING:tensorflow:From /home/ulgal/anaconda3/lib/python3.7/site-packages/rasa/nlu/classifiers/embedding_intent_classifier.py:553: The name tf.placeholder_with_default is deprecated. Please use tf.compat.v1.placeholder_with_default instead.\n",
      "\n"
     ]
    },
    {
     "name": "stderr",
     "output_type": "stream",
     "text": [
      "WARNING:tensorflow:From /home/ulgal/anaconda3/lib/python3.7/site-packages/rasa/nlu/classifiers/embedding_intent_classifier.py:553: The name tf.placeholder_with_default is deprecated. Please use tf.compat.v1.placeholder_with_default instead.\n",
      "\n"
     ]
    },
    {
     "name": "stdout",
     "output_type": "stream",
     "text": [
      "WARNING:tensorflow:From /home/ulgal/anaconda3/lib/python3.7/site-packages/rasa/utils/train_utils.py:300: The name tf.AUTO_REUSE is deprecated. Please use tf.compat.v1.AUTO_REUSE instead.\n",
      "\n"
     ]
    },
    {
     "name": "stderr",
     "output_type": "stream",
     "text": [
      "WARNING:tensorflow:From /home/ulgal/anaconda3/lib/python3.7/site-packages/rasa/utils/train_utils.py:300: The name tf.AUTO_REUSE is deprecated. Please use tf.compat.v1.AUTO_REUSE instead.\n",
      "\n"
     ]
    },
    {
     "name": "stdout",
     "output_type": "stream",
     "text": [
      "WARNING:tensorflow:From /home/ulgal/anaconda3/lib/python3.7/site-packages/rasa/utils/train_utils.py:300: dense (from tensorflow.python.layers.core) is deprecated and will be removed in a future version.\n",
      "Instructions for updating:\n",
      "Use keras.layers.dense instead.\n"
     ]
    },
    {
     "name": "stderr",
     "output_type": "stream",
     "text": [
      "WARNING:tensorflow:From /home/ulgal/anaconda3/lib/python3.7/site-packages/rasa/utils/train_utils.py:300: dense (from tensorflow.python.layers.core) is deprecated and will be removed in a future version.\n",
      "Instructions for updating:\n",
      "Use keras.layers.dense instead.\n"
     ]
    },
    {
     "name": "stdout",
     "output_type": "stream",
     "text": [
      "WARNING:tensorflow:From /home/ulgal/anaconda3/lib/python3.7/site-packages/rasa/utils/train_utils.py:302: dropout (from tensorflow.python.layers.core) is deprecated and will be removed in a future version.\n",
      "Instructions for updating:\n",
      "Use keras.layers.dropout instead.\n"
     ]
    },
    {
     "name": "stderr",
     "output_type": "stream",
     "text": [
      "WARNING:tensorflow:From /home/ulgal/anaconda3/lib/python3.7/site-packages/rasa/utils/train_utils.py:302: dropout (from tensorflow.python.layers.core) is deprecated and will be removed in a future version.\n",
      "Instructions for updating:\n",
      "Use keras.layers.dropout instead.\n"
     ]
    },
    {
     "name": "stdout",
     "output_type": "stream",
     "text": [
      "WARNING:tensorflow:From /home/ulgal/anaconda3/lib/python3.7/site-packages/tensorflow/python/util/dispatch.py:180: batch_gather (from tensorflow.python.ops.array_ops) is deprecated and will be removed after 2017-10-25.\n",
      "Instructions for updating:\n",
      "`tf.batch_gather` is deprecated, please use `tf.gather` with `batch_dims` instead.\n"
     ]
    },
    {
     "name": "stderr",
     "output_type": "stream",
     "text": [
      "WARNING:tensorflow:From /home/ulgal/anaconda3/lib/python3.7/site-packages/tensorflow/python/util/dispatch.py:180: batch_gather (from tensorflow.python.ops.array_ops) is deprecated and will be removed after 2017-10-25.\n",
      "Instructions for updating:\n",
      "`tf.batch_gather` is deprecated, please use `tf.gather` with `batch_dims` instead.\n"
     ]
    },
    {
     "name": "stdout",
     "output_type": "stream",
     "text": [
      "WARNING:tensorflow:From /home/ulgal/anaconda3/lib/python3.7/site-packages/rasa/utils/train_utils.py:680: The name tf.losses.softmax_cross_entropy is deprecated. Please use tf.compat.v1.losses.softmax_cross_entropy instead.\n",
      "\n"
     ]
    },
    {
     "name": "stderr",
     "output_type": "stream",
     "text": [
      "WARNING:tensorflow:From /home/ulgal/anaconda3/lib/python3.7/site-packages/rasa/utils/train_utils.py:680: The name tf.losses.softmax_cross_entropy is deprecated. Please use tf.compat.v1.losses.softmax_cross_entropy instead.\n",
      "\n"
     ]
    },
    {
     "name": "stdout",
     "output_type": "stream",
     "text": [
      "WARNING:tensorflow:From /home/ulgal/anaconda3/lib/python3.7/site-packages/rasa/utils/train_utils.py:682: The name tf.losses.get_regularization_loss is deprecated. Please use tf.compat.v1.losses.get_regularization_loss instead.\n",
      "\n"
     ]
    },
    {
     "name": "stderr",
     "output_type": "stream",
     "text": [
      "WARNING:tensorflow:From /home/ulgal/anaconda3/lib/python3.7/site-packages/rasa/utils/train_utils.py:682: The name tf.losses.get_regularization_loss is deprecated. Please use tf.compat.v1.losses.get_regularization_loss instead.\n",
      "\n",
      "Epochs: 100%|██████████| 300/300 [00:03<00:00, 79.39it/s, loss=0.475, acc=1.000]\n"
     ]
    },
    {
     "name": "stdout",
     "output_type": "stream",
     "text": [
      "WARNING:tensorflow:From /home/ulgal/anaconda3/lib/python3.7/site-packages/rasa/nlu/classifiers/embedding_intent_classifier.py:674: The name tf.train.Saver is deprecated. Please use tf.compat.v1.train.Saver instead.\n",
      "\n"
     ]
    },
    {
     "name": "stderr",
     "output_type": "stream",
     "text": [
      "WARNING:tensorflow:From /home/ulgal/anaconda3/lib/python3.7/site-packages/rasa/nlu/classifiers/embedding_intent_classifier.py:674: The name tf.train.Saver is deprecated. Please use tf.compat.v1.train.Saver instead.\n",
      "\n"
     ]
    },
    {
     "name": "stdout",
     "output_type": "stream",
     "text": [
      "\u001b[94mNLU model training completed.\u001b[0m\n",
      "\u001b[92mYour Rasa model is trained and saved at '/home/ulgal/work/SWPP/project/swpp2019-team19/backend/Rasa/jupyter/test-project/models/20191109-015609.tar.gz'.\u001b[0m\n",
      "models/20191109-015609.tar.gz\n"
     ]
    }
   ],
   "source": [
    "import rasa\n",
    "\n",
    "model_path = rasa.train(domain, config, [training_files], output)\n",
    "print(model_path)"
   ]
  },
  {
   "cell_type": "code",
   "execution_count": 5,
   "metadata": {},
   "outputs": [
    {
     "name": "stdout",
     "output_type": "stream",
     "text": [
      "WARNING:tensorflow:From /home/ulgal/anaconda3/lib/python3.7/site-packages/rasa/nlu/classifiers/embedding_intent_classifier.py:707: The name tf.train.import_meta_graph is deprecated. Please use tf.compat.v1.train.import_meta_graph instead.\n",
      "\n"
     ]
    },
    {
     "name": "stderr",
     "output_type": "stream",
     "text": [
      "WARNING:tensorflow:From /home/ulgal/anaconda3/lib/python3.7/site-packages/rasa/nlu/classifiers/embedding_intent_classifier.py:707: The name tf.train.import_meta_graph is deprecated. Please use tf.compat.v1.train.import_meta_graph instead.\n",
      "\n"
     ]
    },
    {
     "name": "stdout",
     "output_type": "stream",
     "text": [
      "WARNING:tensorflow:From /home/ulgal/anaconda3/lib/python3.7/site-packages/tensorflow/python/training/saver.py:1276: checkpoint_exists (from tensorflow.python.training.checkpoint_management) is deprecated and will be removed in a future version.\n",
      "Instructions for updating:\n",
      "Use standard file APIs to check for files with this prefix.\n"
     ]
    },
    {
     "name": "stderr",
     "output_type": "stream",
     "text": [
      "WARNING:tensorflow:From /home/ulgal/anaconda3/lib/python3.7/site-packages/tensorflow/python/training/saver.py:1276: checkpoint_exists (from tensorflow.python.training.checkpoint_management) is deprecated and will be removed in a future version.\n",
      "Instructions for updating:\n",
      "Use standard file APIs to check for files with this prefix.\n"
     ]
    },
    {
     "name": "stdout",
     "output_type": "stream",
     "text": [
      "INFO:tensorflow:Restoring parameters from /tmp/tmpi067fn4h/nlu/component_6_EmbeddingIntentClassifier.ckpt\n"
     ]
    },
    {
     "name": "stderr",
     "output_type": "stream",
     "text": [
      "INFO:tensorflow:Restoring parameters from /tmp/tmpi067fn4h/nlu/component_6_EmbeddingIntentClassifier.ckpt\n"
     ]
    },
    {
     "name": "stdout",
     "output_type": "stream",
     "text": [
      "WARNING:tensorflow:From /home/ulgal/anaconda3/lib/python3.7/site-packages/tensorflow/python/ops/init_ops.py:97: calling GlorotUniform.__init__ (from tensorflow.python.ops.init_ops) with dtype is deprecated and will be removed in a future version.\n",
      "Instructions for updating:\n",
      "Call initializer instance with the dtype argument instead of passing it to the constructor\n"
     ]
    },
    {
     "name": "stderr",
     "output_type": "stream",
     "text": [
      "WARNING:tensorflow:From /home/ulgal/anaconda3/lib/python3.7/site-packages/tensorflow/python/ops/init_ops.py:97: calling GlorotUniform.__init__ (from tensorflow.python.ops.init_ops) with dtype is deprecated and will be removed in a future version.\n",
      "Instructions for updating:\n",
      "Call initializer instance with the dtype argument instead of passing it to the constructor\n"
     ]
    },
    {
     "name": "stdout",
     "output_type": "stream",
     "text": [
      "WARNING:tensorflow:From /home/ulgal/anaconda3/lib/python3.7/site-packages/tensorflow/python/ops/init_ops.py:97: calling Orthogonal.__init__ (from tensorflow.python.ops.init_ops) with dtype is deprecated and will be removed in a future version.\n",
      "Instructions for updating:\n",
      "Call initializer instance with the dtype argument instead of passing it to the constructor\n"
     ]
    },
    {
     "name": "stderr",
     "output_type": "stream",
     "text": [
      "WARNING:tensorflow:From /home/ulgal/anaconda3/lib/python3.7/site-packages/tensorflow/python/ops/init_ops.py:97: calling Orthogonal.__init__ (from tensorflow.python.ops.init_ops) with dtype is deprecated and will be removed in a future version.\n",
      "Instructions for updating:\n",
      "Call initializer instance with the dtype argument instead of passing it to the constructor\n"
     ]
    },
    {
     "name": "stdout",
     "output_type": "stream",
     "text": [
      "WARNING:tensorflow:From /home/ulgal/anaconda3/lib/python3.7/site-packages/tensorflow/python/ops/init_ops.py:97: calling Zeros.__init__ (from tensorflow.python.ops.init_ops) with dtype is deprecated and will be removed in a future version.\n",
      "Instructions for updating:\n",
      "Call initializer instance with the dtype argument instead of passing it to the constructor\n"
     ]
    },
    {
     "name": "stderr",
     "output_type": "stream",
     "text": [
      "WARNING:tensorflow:From /home/ulgal/anaconda3/lib/python3.7/site-packages/tensorflow/python/ops/init_ops.py:97: calling Zeros.__init__ (from tensorflow.python.ops.init_ops) with dtype is deprecated and will be removed in a future version.\n",
      "Instructions for updating:\n",
      "Call initializer instance with the dtype argument instead of passing it to the constructor\n"
     ]
    },
    {
     "name": "stdout",
     "output_type": "stream",
     "text": [
      "Your bot is ready to talk! Type your messages here or send '/stop'.\n"
     ]
    },
    {
     "name": "stdin",
     "output_type": "stream",
     "text": [
      " hi\n"
     ]
    },
    {
     "name": "stdout",
     "output_type": "stream",
     "text": [
      "\u001b[92mHey! How are you?\u001b[0m\n"
     ]
    },
    {
     "name": "stdin",
     "output_type": "stream",
     "text": [
      " i'm fine, and you?\n"
     ]
    },
    {
     "name": "stdout",
     "output_type": "stream",
     "text": [
      "\u001b[92mGreat, carry on!\u001b[0m\n"
     ]
    },
    {
     "name": "stdin",
     "output_type": "stream",
     "text": [
      " bye\n"
     ]
    },
    {
     "name": "stdout",
     "output_type": "stream",
     "text": [
      "\u001b[92mBye\u001b[0m\n"
     ]
    },
    {
     "name": "stdin",
     "output_type": "stream",
     "text": [
      " /stop\n"
     ]
    }
   ],
   "source": [
    "from rasa.jupyter import chat\n",
    "chat(model_path)"
   ]
  },
  {
   "cell_type": "code",
   "execution_count": 6,
   "metadata": {},
   "outputs": [
    {
     "name": "stdout",
     "output_type": "stream",
     "text": [
      "/tmp/tmpvvbc47n9 /tmp/tmpjp0r325m\n"
     ]
    }
   ],
   "source": [
    "import rasa.data as data\n",
    "stories_directory, nlu_data_directory = data.get_core_nlu_directories(training_files)\n",
    "print(stories_directory, nlu_data_directory)"
   ]
  },
  {
   "cell_type": "code",
   "execution_count": 7,
   "metadata": {},
   "outputs": [
    {
     "name": "stderr",
     "output_type": "stream",
     "text": [
      "Processed Story Blocks: 100%|██████████| 5/5 [00:00<00:00, 1272.47it/s, # trackers=1]\n",
      "100%|██████████| 5/5 [00:00<00:00, 27.83it/s]\n"
     ]
    },
    {
     "name": "stdout",
     "output_type": "stream",
     "text": [
      "INFO:tensorflow:Restoring parameters from /tmp/tmpufn2dkox/nlu/component_6_EmbeddingIntentClassifier.ckpt\n"
     ]
    },
    {
     "name": "stderr",
     "output_type": "stream",
     "text": [
      "INFO:tensorflow:Restoring parameters from /tmp/tmpufn2dkox/nlu/component_6_EmbeddingIntentClassifier.ckpt\n",
      "100%|██████████| 43/43 [00:00<00:00, 700.62it/s]\n",
      "WARNING:rasa.nlu.test:No labels to evaluate. Skip evaluation.\n"
     ]
    },
    {
     "name": "stdout",
     "output_type": "stream",
     "text": [
      "Done testing.\n"
     ]
    }
   ],
   "source": [
    "rasa.test(model_path, stories_directory, nlu_data_directory)\n",
    "print(\"Done testing.\")"
   ]
  },
  {
   "cell_type": "code",
   "execution_count": 8,
   "metadata": {},
   "outputs": [
    {
     "name": "stdout",
     "output_type": "stream",
     "text": [
      "No NLU errors.\n",
      "\n",
      "\n",
      "Core Errors:\n",
      "<!-- All stories passed -->\n"
     ]
    }
   ],
   "source": [
    "if os.path.isfile(\"errors.json\"):\n",
    "    print(\"NLU Errors:\")\n",
    "    print(open(\"errors.json\").read())\n",
    "else:\n",
    "    print(\"No NLU errors.\")\n",
    "\n",
    "if os.path.isdir(\"results\"):\n",
    "      print(\"\\n\")\n",
    "      print(\"Core Errors:\")\n",
    "      print(open(\"results/failed_stories.md\").read())"
   ]
  },
  {
   "cell_type": "code",
   "execution_count": null,
   "metadata": {},
   "outputs": [],
   "source": []
  }
 ],
 "metadata": {
  "kernelspec": {
   "display_name": "Python 3",
   "language": "python",
   "name": "python3"
  },
  "language_info": {
   "codemirror_mode": {
    "name": "ipython",
    "version": 3
   },
   "file_extension": ".py",
   "mimetype": "text/x-python",
   "name": "python",
   "nbconvert_exporter": "python",
   "pygments_lexer": "ipython3",
   "version": "3.7.3"
  }
 },
 "nbformat": 4,
 "nbformat_minor": 4
}